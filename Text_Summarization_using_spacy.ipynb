{
  "nbformat": 4,
  "nbformat_minor": 5,
  "metadata": {
    "kernelspec": {
      "display_name": "Python 3 (ipykernel)",
      "language": "python",
      "name": "python3"
    },
    "language_info": {
      "codemirror_mode": {
        "name": "ipython",
        "version": 3
      },
      "file_extension": ".py",
      "mimetype": "text/x-python",
      "name": "python",
      "nbconvert_exporter": "python",
      "pygments_lexer": "ipython3",
      "version": "3.9.6"
    },
    "colab": {
      "name": "Copy of 8.Summarization_02_(spacy).ipynb",
      "provenance": [],
      "toc_visible": true
    }
  },
  "cells": [
    {
      "cell_type": "code",
      "metadata": {
        "id": "6f3462e6"
      },
      "source": [
        "import spacy"
      ],
      "id": "6f3462e6",
      "execution_count": null,
      "outputs": []
    },
    {
      "cell_type": "code",
      "metadata": {
        "id": "40604c0e"
      },
      "source": [
        "from spacy.lang.en.stop_words import STOP_WORDS\n",
        "from string import punctuation"
      ],
      "id": "40604c0e",
      "execution_count": null,
      "outputs": []
    },
    {
      "cell_type": "code",
      "metadata": {
        "id": "689bd7a5"
      },
      "source": [
        "stopwords = list(STOP_WORDS)   #converting to list"
      ],
      "id": "689bd7a5",
      "execution_count": null,
      "outputs": []
    },
    {
      "cell_type": "code",
      "metadata": {
        "id": "dbfe7950",
        "outputId": "7ca94bc2-ed33-460c-fdd4-7c42a3c44c0b"
      },
      "source": [
        "stopwords"
      ],
      "id": "dbfe7950",
      "execution_count": null,
      "outputs": [
        {
          "output_type": "execute_result",
          "data": {
            "text/plain": [
              "['would',\n",
              " 'could',\n",
              " 'then',\n",
              " 'one',\n",
              " 'further',\n",
              " '‘ve',\n",
              " 'regarding',\n",
              " \"'ve\",\n",
              " 'side',\n",
              " 'twenty',\n",
              " 'below',\n",
              " 'behind',\n",
              " 'herself',\n",
              " '’re',\n",
              " 'thereafter',\n",
              " 'this',\n",
              " 'a',\n",
              " 'for',\n",
              " 'well',\n",
              " 'doing',\n",
              " 'most',\n",
              " 'when',\n",
              " 'full',\n",
              " 'now',\n",
              " 'seemed',\n",
              " 'any',\n",
              " 'ourselves',\n",
              " 'thus',\n",
              " 'n‘t',\n",
              " 'into',\n",
              " 'everything',\n",
              " '’s',\n",
              " 'have',\n",
              " 'besides',\n",
              " 'anything',\n",
              " 'towards',\n",
              " 'nine',\n",
              " 'not',\n",
              " 'top',\n",
              " 'same',\n",
              " 'became',\n",
              " 'does',\n",
              " '’ll',\n",
              " 'hundred',\n",
              " 'beside',\n",
              " 'just',\n",
              " 'these',\n",
              " 'after',\n",
              " 'beforehand',\n",
              " 'still',\n",
              " 'whole',\n",
              " 'under',\n",
              " 'but',\n",
              " 'hence',\n",
              " 'otherwise',\n",
              " 'unless',\n",
              " 'except',\n",
              " 'two',\n",
              " 'onto',\n",
              " 'become',\n",
              " 'say',\n",
              " 'nor',\n",
              " 'no',\n",
              " 'here',\n",
              " 'upon',\n",
              " 'other',\n",
              " 'very',\n",
              " 'others',\n",
              " 'latter',\n",
              " 'once',\n",
              " 'our',\n",
              " '‘s',\n",
              " 'they',\n",
              " \"'s\",\n",
              " 'around',\n",
              " 'nevertheless',\n",
              " 'sixty',\n",
              " 'hereupon',\n",
              " 'along',\n",
              " 'over',\n",
              " 'did',\n",
              " 'why',\n",
              " 'among',\n",
              " 'next',\n",
              " 'six',\n",
              " 'until',\n",
              " 'each',\n",
              " 'move',\n",
              " 'together',\n",
              " 'someone',\n",
              " 'some',\n",
              " 'on',\n",
              " 'else',\n",
              " 'how',\n",
              " 'myself',\n",
              " \"'re\",\n",
              " 'put',\n",
              " 'those',\n",
              " 'n’t',\n",
              " 'many',\n",
              " 'all',\n",
              " 'while',\n",
              " 'mine',\n",
              " 'herein',\n",
              " 'either',\n",
              " 'third',\n",
              " 'am',\n",
              " 'fifteen',\n",
              " 'front',\n",
              " 'through',\n",
              " 're',\n",
              " '‘re',\n",
              " 'yourselves',\n",
              " 'since',\n",
              " 'yours',\n",
              " 'nobody',\n",
              " 'during',\n",
              " 'call',\n",
              " 'latterly',\n",
              " 'whoever',\n",
              " 'fifty',\n",
              " 'due',\n",
              " 'give',\n",
              " 'forty',\n",
              " 'before',\n",
              " 'everyone',\n",
              " 'it',\n",
              " 'really',\n",
              " 'above',\n",
              " 'must',\n",
              " 'perhaps',\n",
              " 'with',\n",
              " 'formerly',\n",
              " 'we',\n",
              " 'whom',\n",
              " 'whatever',\n",
              " 'what',\n",
              " 'us',\n",
              " 'becoming',\n",
              " 'mostly',\n",
              " 'keep',\n",
              " 'meanwhile',\n",
              " 'ever',\n",
              " 'every',\n",
              " 'elsewhere',\n",
              " 'than',\n",
              " 'various',\n",
              " 'whereas',\n",
              " 'per',\n",
              " 'thereby',\n",
              " 'out',\n",
              " 'them',\n",
              " 'she',\n",
              " 'afterwards',\n",
              " 'anyway',\n",
              " 'though',\n",
              " 'an',\n",
              " 'ours',\n",
              " 'from',\n",
              " 'never',\n",
              " 'cannot',\n",
              " 'he',\n",
              " 'first',\n",
              " 'is',\n",
              " 'about',\n",
              " 'so',\n",
              " '’ve',\n",
              " 'that',\n",
              " 'whether',\n",
              " '‘m',\n",
              " 'part',\n",
              " 'see',\n",
              " 'him',\n",
              " 'are',\n",
              " 'using',\n",
              " 'yourself',\n",
              " 'enough',\n",
              " 'again',\n",
              " 'whereby',\n",
              " 'thereupon',\n",
              " 'nothing',\n",
              " 'indeed',\n",
              " 'seeming',\n",
              " 'across',\n",
              " 'her',\n",
              " 'however',\n",
              " 'without',\n",
              " 'his',\n",
              " 'alone',\n",
              " 'off',\n",
              " 'was',\n",
              " '‘ll',\n",
              " 'throughout',\n",
              " 'already',\n",
              " 'used',\n",
              " 'name',\n",
              " 'itself',\n",
              " 'even',\n",
              " 'hers',\n",
              " 'had',\n",
              " 'namely',\n",
              " 'in',\n",
              " \"'m\",\n",
              " 'several',\n",
              " 'thru',\n",
              " 'me',\n",
              " 'wherein',\n",
              " 'may',\n",
              " 'more',\n",
              " 'up',\n",
              " 'less',\n",
              " 'also',\n",
              " 'down',\n",
              " 'do',\n",
              " 'toward',\n",
              " 'serious',\n",
              " 'few',\n",
              " 'its',\n",
              " 'has',\n",
              " 'himself',\n",
              " 'who',\n",
              " 'between',\n",
              " 'take',\n",
              " 'rather',\n",
              " 'both',\n",
              " 'done',\n",
              " 'becomes',\n",
              " 'seem',\n",
              " 'least',\n",
              " 'beyond',\n",
              " 'whereafter',\n",
              " 'four',\n",
              " 'ten',\n",
              " 'anyhow',\n",
              " 'amongst',\n",
              " 'and',\n",
              " 'eleven',\n",
              " 'therein',\n",
              " 'bottom',\n",
              " 'former',\n",
              " 'much',\n",
              " 'you',\n",
              " 'last',\n",
              " 'eight',\n",
              " 'yet',\n",
              " 'moreover',\n",
              " 'via',\n",
              " 'whither',\n",
              " 'to',\n",
              " 'anywhere',\n",
              " 'where',\n",
              " 'therefore',\n",
              " 'which',\n",
              " 'neither',\n",
              " 'get',\n",
              " 'been',\n",
              " '‘d',\n",
              " 'nowhere',\n",
              " 'another',\n",
              " 'go',\n",
              " 'at',\n",
              " 'against',\n",
              " 'show',\n",
              " 'whose',\n",
              " 'being',\n",
              " 'by',\n",
              " 'amount',\n",
              " 'thence',\n",
              " 'of',\n",
              " 'made',\n",
              " 'your',\n",
              " 'everywhere',\n",
              " 'whenever',\n",
              " 'sometime',\n",
              " 'somewhere',\n",
              " \"'d\",\n",
              " 'hereby',\n",
              " 'back',\n",
              " 'were',\n",
              " 'be',\n",
              " 'or',\n",
              " 'as',\n",
              " 'almost',\n",
              " 'should',\n",
              " 'five',\n",
              " 'twelve',\n",
              " 'the',\n",
              " 'wherever',\n",
              " 'something',\n",
              " 'their',\n",
              " 'seems',\n",
              " 'anyone',\n",
              " 'hereafter',\n",
              " 'empty',\n",
              " 'own',\n",
              " 'i',\n",
              " 'ca',\n",
              " 'sometimes',\n",
              " \"n't\",\n",
              " 'whence',\n",
              " 'noone',\n",
              " 'within',\n",
              " 'whereupon',\n",
              " 'quite',\n",
              " 'often',\n",
              " 'always',\n",
              " 'too',\n",
              " 'can',\n",
              " 'three',\n",
              " 'please',\n",
              " 'only',\n",
              " 'my',\n",
              " '’m',\n",
              " 'themselves',\n",
              " 'will',\n",
              " 'if',\n",
              " \"'ll\",\n",
              " 'because',\n",
              " 'such',\n",
              " '’d',\n",
              " 'none',\n",
              " 'might',\n",
              " 'somehow',\n",
              " 'although',\n",
              " 'there',\n",
              " 'make']"
            ]
          },
          "metadata": {
            "tags": []
          },
          "execution_count": 7
        }
      ]
    },
    {
      "cell_type": "markdown",
      "metadata": {
        "id": "hmYGJsknDuSL"
      },
      "source": [
        "# New Section"
      ],
      "id": "hmYGJsknDuSL"
    },
    {
      "cell_type": "code",
      "metadata": {
        "id": "c70e2cff"
      },
      "source": [
        "nlp = spacy.load('en_core_web_sm')"
      ],
      "id": "c70e2cff",
      "execution_count": null,
      "outputs": []
    },
    {
      "cell_type": "code",
      "metadata": {
        "id": "2f642393"
      },
      "source": [
        "text =  '''This matter pertains to pre-arrest bail of the petitioner, but insipte of repeated calls the\n",
        "petitioner has not tendered appearance. Ms. Tasneem Ameen,\n",
        "Advocate on Record (“AOR”) submits that she has no information\n",
        "regarding the whereabouts of the petitioner and submits that\n",
        "learned ASC for the petitioner has since passed away. Upon our\n",
        "asking, the learned AOR informed us that she does not even have\n",
        "the contact details of the petitioner. \n",
        " It is important to highlight that the role of an AOR is\n",
        "pivotal in the dispensation of justice in this Court. Under Rule 6 of\n",
        "Order IV of the Supreme Court Rules, 1980 (“Rules”), no advocate\n",
        "other than an AOR can appear or plead in any matter unless he is\n",
        "instructed by an AOR. Under Rule 15 of Order IV of the Rules, no\n",
        "advocate other than an AOR is entitled to act for a party in any\n",
        "proceedings in the Court. Further, every AOR before acting on\n",
        "behalf of any person or party is to file in the Registry a power of\n",
        "attorney in the manner prescribed in Form 5 of the Sixth Schedule\n",
        "to the Rules.\n",
        "\n",
        "'''"
      ],
      "id": "2f642393",
      "execution_count": null,
      "outputs": []
    },
    {
      "cell_type": "code",
      "metadata": {
        "id": "fd9cc1e1"
      },
      "source": [
        "doc = nlp(text)   #now doc stores all the data stored in text"
      ],
      "id": "fd9cc1e1",
      "execution_count": null,
      "outputs": []
    },
    {
      "cell_type": "code",
      "metadata": {
        "id": "a994ce72",
        "outputId": "aa498dfb-64c9-423c-dd41-cab1b56aac88"
      },
      "source": [
        "doc"
      ],
      "id": "a994ce72",
      "execution_count": null,
      "outputs": [
        {
          "output_type": "execute_result",
          "data": {
            "text/plain": [
              "This matter pertains to pre-arrest bail of the petitioner, but insipte of repeated calls the\n",
              "petitioner has not tendered appearance. Ms. Tasneem Ameen,\n",
              "Advocate on Record (“AOR”) submits that she has no information\n",
              "regarding the whereabouts of the petitioner and submits that\n",
              "learned ASC for the petitioner has since passed away. Upon our\n",
              "asking, the learned AOR informed us that she does not even have\n",
              "the contact details of the petitioner. \n",
              " It is important to highlight that the role of an AOR is\n",
              "pivotal in the dispensation of justice in this Court. Under Rule 6 of\n",
              "Order IV of the Supreme Court Rules, 1980 (“Rules”), no advocate\n",
              "other than an AOR can appear or plead in any matter unless he is\n",
              "instructed by an AOR. Under Rule 15 of Order IV of the Rules, no\n",
              "advocate other than an AOR is entitled to act for a party in any\n",
              "proceedings in the Court. Further, every AOR before acting on\n",
              "behalf of any person or party is to file in the Registry a power of\n",
              "attorney in the manner prescribed in Form 5 of the Sixth Schedule\n",
              "to the Rules.\n"
            ]
          },
          "metadata": {
            "tags": []
          },
          "execution_count": 11
        }
      ]
    },
    {
      "cell_type": "code",
      "metadata": {
        "id": "351041df"
      },
      "source": [
        "tokens = [token.text for token in doc]   #tokenizing the doc"
      ],
      "id": "351041df",
      "execution_count": null,
      "outputs": []
    },
    {
      "cell_type": "code",
      "metadata": {
        "id": "9b3bdf5a",
        "outputId": "9955590d-c8ed-4d39-bacb-c67b484e2e24"
      },
      "source": [
        "tokens"
      ],
      "id": "9b3bdf5a",
      "execution_count": null,
      "outputs": [
        {
          "output_type": "execute_result",
          "data": {
            "text/plain": [
              "['This',\n",
              " 'matter',\n",
              " 'pertains',\n",
              " 'to',\n",
              " 'pre',\n",
              " '-',\n",
              " 'arrest',\n",
              " 'bail',\n",
              " 'of',\n",
              " 'the',\n",
              " 'petitioner',\n",
              " ',',\n",
              " 'but',\n",
              " 'insipte',\n",
              " 'of',\n",
              " 'repeated',\n",
              " 'calls',\n",
              " 'the',\n",
              " '\\n',\n",
              " 'petitioner',\n",
              " 'has',\n",
              " 'not',\n",
              " 'tendered',\n",
              " 'appearance',\n",
              " '.',\n",
              " 'Ms.',\n",
              " 'Tasneem',\n",
              " 'Ameen',\n",
              " ',',\n",
              " '\\n',\n",
              " 'Advocate',\n",
              " 'on',\n",
              " 'Record',\n",
              " '(',\n",
              " '“',\n",
              " 'AOR',\n",
              " '”',\n",
              " ')',\n",
              " 'submits',\n",
              " 'that',\n",
              " 'she',\n",
              " 'has',\n",
              " 'no',\n",
              " 'information',\n",
              " '\\n',\n",
              " 'regarding',\n",
              " 'the',\n",
              " 'whereabouts',\n",
              " 'of',\n",
              " 'the',\n",
              " 'petitioner',\n",
              " 'and',\n",
              " 'submits',\n",
              " 'that',\n",
              " '\\n',\n",
              " 'learned',\n",
              " 'ASC',\n",
              " 'for',\n",
              " 'the',\n",
              " 'petitioner',\n",
              " 'has',\n",
              " 'since',\n",
              " 'passed',\n",
              " 'away',\n",
              " '.',\n",
              " 'Upon',\n",
              " 'our',\n",
              " '\\n',\n",
              " 'asking',\n",
              " ',',\n",
              " 'the',\n",
              " 'learned',\n",
              " 'AOR',\n",
              " 'informed',\n",
              " 'us',\n",
              " 'that',\n",
              " 'she',\n",
              " 'does',\n",
              " 'not',\n",
              " 'even',\n",
              " 'have',\n",
              " '\\n',\n",
              " 'the',\n",
              " 'contact',\n",
              " 'details',\n",
              " 'of',\n",
              " 'the',\n",
              " 'petitioner',\n",
              " '.',\n",
              " '\\n ',\n",
              " 'It',\n",
              " 'is',\n",
              " 'important',\n",
              " 'to',\n",
              " 'highlight',\n",
              " 'that',\n",
              " 'the',\n",
              " 'role',\n",
              " 'of',\n",
              " 'an',\n",
              " 'AOR',\n",
              " 'is',\n",
              " '\\n',\n",
              " 'pivotal',\n",
              " 'in',\n",
              " 'the',\n",
              " 'dispensation',\n",
              " 'of',\n",
              " 'justice',\n",
              " 'in',\n",
              " 'this',\n",
              " 'Court',\n",
              " '.',\n",
              " 'Under',\n",
              " 'Rule',\n",
              " '6',\n",
              " 'of',\n",
              " '\\n',\n",
              " 'Order',\n",
              " 'IV',\n",
              " 'of',\n",
              " 'the',\n",
              " 'Supreme',\n",
              " 'Court',\n",
              " 'Rules',\n",
              " ',',\n",
              " '1980',\n",
              " '(',\n",
              " '“',\n",
              " 'Rules',\n",
              " '”',\n",
              " ')',\n",
              " ',',\n",
              " 'no',\n",
              " 'advocate',\n",
              " '\\n',\n",
              " 'other',\n",
              " 'than',\n",
              " 'an',\n",
              " 'AOR',\n",
              " 'can',\n",
              " 'appear',\n",
              " 'or',\n",
              " 'plead',\n",
              " 'in',\n",
              " 'any',\n",
              " 'matter',\n",
              " 'unless',\n",
              " 'he',\n",
              " 'is',\n",
              " '\\n',\n",
              " 'instructed',\n",
              " 'by',\n",
              " 'an',\n",
              " 'AOR',\n",
              " '.',\n",
              " 'Under',\n",
              " 'Rule',\n",
              " '15',\n",
              " 'of',\n",
              " 'Order',\n",
              " 'IV',\n",
              " 'of',\n",
              " 'the',\n",
              " 'Rules',\n",
              " ',',\n",
              " 'no',\n",
              " '\\n',\n",
              " 'advocate',\n",
              " 'other',\n",
              " 'than',\n",
              " 'an',\n",
              " 'AOR',\n",
              " 'is',\n",
              " 'entitled',\n",
              " 'to',\n",
              " 'act',\n",
              " 'for',\n",
              " 'a',\n",
              " 'party',\n",
              " 'in',\n",
              " 'any',\n",
              " '\\n',\n",
              " 'proceedings',\n",
              " 'in',\n",
              " 'the',\n",
              " 'Court',\n",
              " '.',\n",
              " 'Further',\n",
              " ',',\n",
              " 'every',\n",
              " 'AOR',\n",
              " 'before',\n",
              " 'acting',\n",
              " 'on',\n",
              " '\\n',\n",
              " 'behalf',\n",
              " 'of',\n",
              " 'any',\n",
              " 'person',\n",
              " 'or',\n",
              " 'party',\n",
              " 'is',\n",
              " 'to',\n",
              " 'file',\n",
              " 'in',\n",
              " 'the',\n",
              " 'Registry',\n",
              " 'a',\n",
              " 'power',\n",
              " 'of',\n",
              " '\\n',\n",
              " 'attorney',\n",
              " 'in',\n",
              " 'the',\n",
              " 'manner',\n",
              " 'prescribed',\n",
              " 'in',\n",
              " 'Form',\n",
              " '5',\n",
              " 'of',\n",
              " 'the',\n",
              " 'Sixth',\n",
              " 'Schedule',\n",
              " '\\n',\n",
              " 'to',\n",
              " 'the',\n",
              " 'Rules',\n",
              " '.',\n",
              " '\\n\\n']"
            ]
          },
          "metadata": {
            "tags": []
          },
          "execution_count": 14
        }
      ]
    },
    {
      "cell_type": "code",
      "metadata": {
        "id": "2d859f9d"
      },
      "source": [
        "punctuation = punctuation + '\\n'"
      ],
      "id": "2d859f9d",
      "execution_count": null,
      "outputs": []
    },
    {
      "cell_type": "code",
      "metadata": {
        "id": "9da1dcce",
        "outputId": "a8cf79e6-63f3-46ad-efa1-384d3097b520"
      },
      "source": [
        "punctuation"
      ],
      "id": "9da1dcce",
      "execution_count": null,
      "outputs": [
        {
          "output_type": "execute_result",
          "data": {
            "text/plain": [
              "'!\"#$%&\\'()*+,-./:;<=>?@[\\\\]^_`{|}~\\n'"
            ]
          },
          "metadata": {
            "tags": []
          },
          "execution_count": 16
        }
      ]
    },
    {
      "cell_type": "code",
      "metadata": {
        "id": "f5608c41"
      },
      "source": [
        "word_frequencies = {}   #to store number of occurence of the word\n",
        "#priority will be given on the basis of frequency of the word"
      ],
      "id": "f5608c41",
      "execution_count": null,
      "outputs": []
    },
    {
      "cell_type": "code",
      "metadata": {
        "id": "f4850069"
      },
      "source": [
        "for word in doc:\n",
        "    if word.text.lower() not in stopwords:   #word should not be a stop words\n",
        "        if word.text.lower() not in punctuation:   #nor a punctuation\n",
        "            if word.text not in word_frequencies.keys():  #if not present in word_freq\n",
        "                word_frequencies[word.text] = 1      #then assign it a value 1\n",
        "            else:                                     #if already present\n",
        "                word_frequencies[word.text] += 1      #then add one to the previous existing value\n",
        "                "
      ],
      "id": "f4850069",
      "execution_count": null,
      "outputs": []
    },
    {
      "cell_type": "code",
      "metadata": {
        "id": "a8249c57",
        "outputId": "02cd4162-b371-48ed-f238-4655a3ffb134"
      },
      "source": [
        "word_frequencies"
      ],
      "id": "a8249c57",
      "execution_count": null,
      "outputs": [
        {
          "output_type": "execute_result",
          "data": {
            "text/plain": [
              "{'matter': 4,\n",
              " 'pertains': 2,\n",
              " 'pre': 2,\n",
              " 'arrest': 2,\n",
              " 'bail': 2,\n",
              " 'petitioner': 10,\n",
              " 'insipte': 2,\n",
              " 'repeated': 2,\n",
              " 'calls': 2,\n",
              " 'tendered': 2,\n",
              " 'appearance': 2,\n",
              " 'Ms.': 2,\n",
              " 'Tasneem': 2,\n",
              " 'Ameen': 2,\n",
              " 'Advocate': 2,\n",
              " 'Record': 2,\n",
              " '“': 4,\n",
              " 'AOR': 14,\n",
              " '”': 4,\n",
              " 'submits': 4,\n",
              " 'information': 2,\n",
              " 'whereabouts': 2,\n",
              " 'learned': 4,\n",
              " 'ASC': 2,\n",
              " 'passed': 2,\n",
              " 'away': 2,\n",
              " 'asking': 2,\n",
              " 'informed': 2,\n",
              " 'contact': 2,\n",
              " 'details': 2,\n",
              " '\\n ': 2,\n",
              " 'important': 2,\n",
              " 'highlight': 2,\n",
              " 'role': 2,\n",
              " 'pivotal': 2,\n",
              " 'dispensation': 2,\n",
              " 'justice': 2,\n",
              " 'Court': 6,\n",
              " 'Rule': 4,\n",
              " '6': 2,\n",
              " 'Order': 4,\n",
              " 'IV': 4,\n",
              " 'Supreme': 2,\n",
              " 'Rules': 8,\n",
              " '1980': 2,\n",
              " 'advocate': 4,\n",
              " 'appear': 2,\n",
              " 'plead': 2,\n",
              " 'instructed': 2,\n",
              " '15': 2,\n",
              " 'entitled': 2,\n",
              " 'act': 2,\n",
              " 'party': 4,\n",
              " 'proceedings': 2,\n",
              " 'acting': 2,\n",
              " 'behalf': 2,\n",
              " 'person': 2,\n",
              " 'file': 2,\n",
              " 'Registry': 2,\n",
              " 'power': 2,\n",
              " 'attorney': 2,\n",
              " 'manner': 2,\n",
              " 'prescribed': 2,\n",
              " 'Form': 2,\n",
              " '5': 2,\n",
              " 'Sixth': 2,\n",
              " 'Schedule': 2,\n",
              " '\\n\\n': 2}"
            ]
          },
          "metadata": {
            "tags": []
          },
          "execution_count": 27
        }
      ]
    },
    {
      "cell_type": "code",
      "metadata": {
        "id": "99452685"
      },
      "source": [
        "max_frequency = max(word_frequencies.values())   #frequency of the word the occurs most"
      ],
      "id": "99452685",
      "execution_count": null,
      "outputs": []
    },
    {
      "cell_type": "code",
      "metadata": {
        "id": "6464720c",
        "outputId": "7de63698-0b8e-433e-e4b7-90911344be48"
      },
      "source": [
        "max_frequency"
      ],
      "id": "6464720c",
      "execution_count": null,
      "outputs": [
        {
          "output_type": "execute_result",
          "data": {
            "text/plain": [
              "14"
            ]
          },
          "metadata": {
            "tags": []
          },
          "execution_count": 29
        }
      ]
    },
    {
      "cell_type": "code",
      "metadata": {
        "id": "efe9d6a5"
      },
      "source": [
        "for word in word_frequencies.keys():\n",
        "    word_frequencies[word] = word_frequencies[word]/max_frequency   #normalizing the frequency by dividing each freq by max_freq"
      ],
      "id": "efe9d6a5",
      "execution_count": null,
      "outputs": []
    },
    {
      "cell_type": "code",
      "metadata": {
        "id": "ba7fa1f6",
        "outputId": "62dc45ed-4d08-4746-cae7-9f60836fed19"
      },
      "source": [
        "word_frequencies"
      ],
      "id": "ba7fa1f6",
      "execution_count": null,
      "outputs": [
        {
          "output_type": "execute_result",
          "data": {
            "text/plain": [
              "{'matter': 0.2857142857142857,\n",
              " 'pertains': 0.14285714285714285,\n",
              " 'pre': 0.14285714285714285,\n",
              " 'arrest': 0.14285714285714285,\n",
              " 'bail': 0.14285714285714285,\n",
              " 'petitioner': 0.7142857142857143,\n",
              " 'insipte': 0.14285714285714285,\n",
              " 'repeated': 0.14285714285714285,\n",
              " 'calls': 0.14285714285714285,\n",
              " 'tendered': 0.14285714285714285,\n",
              " 'appearance': 0.14285714285714285,\n",
              " 'Ms.': 0.14285714285714285,\n",
              " 'Tasneem': 0.14285714285714285,\n",
              " 'Ameen': 0.14285714285714285,\n",
              " 'Advocate': 0.14285714285714285,\n",
              " 'Record': 0.14285714285714285,\n",
              " '“': 0.2857142857142857,\n",
              " 'AOR': 1.0,\n",
              " '”': 0.2857142857142857,\n",
              " 'submits': 0.2857142857142857,\n",
              " 'information': 0.14285714285714285,\n",
              " 'whereabouts': 0.14285714285714285,\n",
              " 'learned': 0.2857142857142857,\n",
              " 'ASC': 0.14285714285714285,\n",
              " 'passed': 0.14285714285714285,\n",
              " 'away': 0.14285714285714285,\n",
              " 'asking': 0.14285714285714285,\n",
              " 'informed': 0.14285714285714285,\n",
              " 'contact': 0.14285714285714285,\n",
              " 'details': 0.14285714285714285,\n",
              " '\\n ': 0.14285714285714285,\n",
              " 'important': 0.14285714285714285,\n",
              " 'highlight': 0.14285714285714285,\n",
              " 'role': 0.14285714285714285,\n",
              " 'pivotal': 0.14285714285714285,\n",
              " 'dispensation': 0.14285714285714285,\n",
              " 'justice': 0.14285714285714285,\n",
              " 'Court': 0.42857142857142855,\n",
              " 'Rule': 0.2857142857142857,\n",
              " '6': 0.14285714285714285,\n",
              " 'Order': 0.2857142857142857,\n",
              " 'IV': 0.2857142857142857,\n",
              " 'Supreme': 0.14285714285714285,\n",
              " 'Rules': 0.5714285714285714,\n",
              " '1980': 0.14285714285714285,\n",
              " 'advocate': 0.2857142857142857,\n",
              " 'appear': 0.14285714285714285,\n",
              " 'plead': 0.14285714285714285,\n",
              " 'instructed': 0.14285714285714285,\n",
              " '15': 0.14285714285714285,\n",
              " 'entitled': 0.14285714285714285,\n",
              " 'act': 0.14285714285714285,\n",
              " 'party': 0.2857142857142857,\n",
              " 'proceedings': 0.14285714285714285,\n",
              " 'acting': 0.14285714285714285,\n",
              " 'behalf': 0.14285714285714285,\n",
              " 'person': 0.14285714285714285,\n",
              " 'file': 0.14285714285714285,\n",
              " 'Registry': 0.14285714285714285,\n",
              " 'power': 0.14285714285714285,\n",
              " 'attorney': 0.14285714285714285,\n",
              " 'manner': 0.14285714285714285,\n",
              " 'prescribed': 0.14285714285714285,\n",
              " 'Form': 0.14285714285714285,\n",
              " '5': 0.14285714285714285,\n",
              " 'Sixth': 0.14285714285714285,\n",
              " 'Schedule': 0.14285714285714285,\n",
              " '\\n\\n': 0.14285714285714285}"
            ]
          },
          "metadata": {
            "tags": []
          },
          "execution_count": 31
        }
      ]
    },
    {
      "cell_type": "code",
      "metadata": {
        "id": "ae348a94"
      },
      "source": [
        "sentence_tokens = [sent for sent in doc.sents]   #making a list of sentencse tokens"
      ],
      "id": "ae348a94",
      "execution_count": null,
      "outputs": []
    },
    {
      "cell_type": "code",
      "metadata": {
        "id": "c4d5222c",
        "outputId": "4240f523-ceb8-4d9b-9284-0f8c252eb9dc"
      },
      "source": [
        "sentence_tokens"
      ],
      "id": "c4d5222c",
      "execution_count": null,
      "outputs": [
        {
          "output_type": "execute_result",
          "data": {
            "text/plain": [
              "[This matter pertains to pre-arrest bail of the petitioner, but insipte of repeated calls the\n",
              " petitioner has not tendered appearance.,\n",
              " Ms. Tasneem Ameen,\n",
              " Advocate on Record (“AOR”) submits that she has no information\n",
              " regarding the whereabouts of the petitioner and submits that\n",
              " learned ASC for the petitioner has since passed away.,\n",
              " Upon our\n",
              " asking, the learned AOR informed us that she does not even have\n",
              " the contact details of the petitioner.,\n",
              " \n",
              "  It is important to highlight that the role of an AOR is\n",
              " pivotal in the dispensation of justice in this Court.,\n",
              " Under Rule 6 of\n",
              " Order IV of the Supreme Court Rules, 1980 (“Rules”), no advocate\n",
              " other than an AOR can appear or plead in any matter unless he is\n",
              " instructed by an AOR.,\n",
              " Under Rule 15 of Order IV of the Rules, no\n",
              " advocate other than an AOR is entitled to act for a party in any\n",
              " proceedings in the Court.,\n",
              " Further, every AOR before acting on\n",
              " behalf of any person or party is to file in the Registry a power of\n",
              " attorney in the manner prescribed in Form 5 of the Sixth Schedule\n",
              " to the Rules.,\n",
              " \n",
              " ]"
            ]
          },
          "metadata": {
            "tags": []
          },
          "execution_count": 33
        }
      ]
    },
    {
      "cell_type": "code",
      "metadata": {
        "id": "c83f3d66"
      },
      "source": [
        "sentence_scores = {}   #to store the sum of normalized word_freq contained in a given sentencce\n",
        "for sent in sentence_tokens:\n",
        "    for word in sent:\n",
        "        if word.text.lower() in word_frequencies.keys():\n",
        "            if sent not in sentence_scores.keys():   #if sentence is not present in sentence_scores\n",
        "                sentence_scores[sent] = word_frequencies[word.text.lower()]   #add it to the sentence_scores\n",
        "            else:\n",
        "                sentence_scores[sent] += word_frequencies[word.text.lower()]  #Otherwise add it to the existing value"
      ],
      "id": "c83f3d66",
      "execution_count": null,
      "outputs": []
    },
    {
      "cell_type": "code",
      "metadata": {
        "id": "181213ea",
        "outputId": "2f142c63-eed1-4cdc-94dd-028ab9460caa"
      },
      "source": [
        "sentence_scores"
      ],
      "id": "181213ea",
      "execution_count": null,
      "outputs": [
        {
          "output_type": "execute_result",
          "data": {
            "text/plain": [
              "{This matter pertains to pre-arrest bail of the petitioner, but insipte of repeated calls the\n",
              " petitioner has not tendered appearance.: 2.9999999999999996,\n",
              " Ms. Tasneem Ameen,\n",
              " Advocate on Record (“AOR”) submits that she has no information\n",
              " regarding the whereabouts of the petitioner and submits that\n",
              " learned ASC for the petitioner has since passed away.: 3.714285714285714,\n",
              " Upon our\n",
              " asking, the learned AOR informed us that she does not even have\n",
              " the contact details of the petitioner.: 1.5714285714285712,\n",
              " \n",
              "  It is important to highlight that the role of an AOR is\n",
              " pivotal in the dispensation of justice in this Court.: 0.9999999999999998,\n",
              " Under Rule 6 of\n",
              " Order IV of the Supreme Court Rules, 1980 (“Rules”), no advocate\n",
              " other than an AOR can appear or plead in any matter unless he is\n",
              " instructed by an AOR.: 1.8571428571428568,\n",
              " Under Rule 15 of Order IV of the Rules, no\n",
              " advocate other than an AOR is entitled to act for a party in any\n",
              " proceedings in the Court.: 1.1428571428571428,\n",
              " Further, every AOR before acting on\n",
              " behalf of any person or party is to file in the Registry a power of\n",
              " attorney in the manner prescribed in Form 5 of the Sixth Schedule\n",
              " to the Rules.: 1.571428571428571,\n",
              " \n",
              " : 0.14285714285714285}"
            ]
          },
          "metadata": {
            "tags": []
          },
          "execution_count": 37
        }
      ]
    },
    {
      "cell_type": "code",
      "metadata": {
        "id": "a0b62090"
      },
      "source": [
        "from heapq import nlargest"
      ],
      "id": "a0b62090",
      "execution_count": null,
      "outputs": []
    },
    {
      "cell_type": "code",
      "metadata": {
        "id": "fdf8339e",
        "outputId": "0d38eea0-5dac-4b24-9d8e-08909acc4d9f"
      },
      "source": [
        "select_length = int(len(sentence_tokens)*0.4)   #number of lines in summary depends on this select_length\n",
        "select_length"
      ],
      "id": "fdf8339e",
      "execution_count": null,
      "outputs": [
        {
          "output_type": "execute_result",
          "data": {
            "text/plain": [
              "3"
            ]
          },
          "metadata": {
            "tags": []
          },
          "execution_count": 47
        }
      ]
    },
    {
      "cell_type": "code",
      "metadata": {
        "id": "4b461af8"
      },
      "source": [
        "summary = nlargest(select_length, sentence_scores, key = sentence_scores.get)"
      ],
      "id": "4b461af8",
      "execution_count": null,
      "outputs": []
    },
    {
      "cell_type": "code",
      "metadata": {
        "scrolled": true,
        "id": "04833526",
        "outputId": "9deb9fca-2c5f-4f38-d895-4938ccbfb654"
      },
      "source": [
        "summary"
      ],
      "id": "04833526",
      "execution_count": null,
      "outputs": [
        {
          "output_type": "execute_result",
          "data": {
            "text/plain": [
              "[Ms. Tasneem Ameen,\n",
              " Advocate on Record (“AOR”) submits that she has no information\n",
              " regarding the whereabouts of the petitioner and submits that\n",
              " learned ASC for the petitioner has since passed away.,\n",
              " This matter pertains to pre-arrest bail of the petitioner, but insipte of repeated calls the\n",
              " petitioner has not tendered appearance.,\n",
              " Under Rule 6 of\n",
              " Order IV of the Supreme Court Rules, 1980 (“Rules”), no advocate\n",
              " other than an AOR can appear or plead in any matter unless he is\n",
              " instructed by an AOR.]"
            ]
          },
          "metadata": {
            "tags": []
          },
          "execution_count": 49
        }
      ]
    },
    {
      "cell_type": "code",
      "metadata": {
        "id": "88292be8"
      },
      "source": [
        ""
      ],
      "id": "88292be8",
      "execution_count": null,
      "outputs": []
    }
  ]
}